{
 "cells": [
  {
   "cell_type": "markdown",
   "id": "ff77494c",
   "metadata": {},
   "source": [
    "<h1>Exercícios Módulo 1 - Python<h1>\n",
    "\n",
    "<h2>Questão 1<h2>\n",
    "<h4>Faça um programa que peça um valor monetário e <b>diminua-o em 15%</b>. Seu programa deve imprimir a mensagem `“O novo valor é [valor]”.`<h4>"
   ]
  },
  {
   "cell_type": "markdown",
   "id": "26063410",
   "metadata": {},
   "source": [
    "```Python\n",
    "valor = input ('Coloque o valor do seu produto: ')\n",
    "valor = float (valor)\n",
    "desconto = valor - valor*0.15\n",
    "\n",
    "print('O novo valor é R$%s' % desconto) \n",
    "```"
   ]
  },
  {
   "cell_type": "markdown",
   "id": "fce15c34",
   "metadata": {},
   "source": [
    "<h2>Questão 2<h2/>\n",
    "<h4>Faça um programa que leia a validade das informações:\n",
    "<break>\n",
    " `Idade: entre 0 e 150\n",
    " Salário: maior que 0\n",
    " Sexo: M, F ou Outro`\n",
    "<break>\n",
    "O programa deve imprimir uma mensagem de erro para cada informação inválida.<h4/>"
   ]
  },
  {
   "cell_type": "markdown",
   "id": "4b995048",
   "metadata": {},
   "source": [
    "```Python\n",
    "idade = input('Insira uma idade de 0 a 150: ')\n",
    "idade = int(idade)\n",
    "if idade>150 or idade<0:\n",
    "    print('Idade inválida! Valor aceito: de 0 a 150: ')\n",
    "salario = input ('Coloque o valor do Salário ')\n",
    "salario = float(salario)\n",
    "if salario<0:\n",
    "    print('Valor inválido! Insira um valor maior que 0')\n",
    "sexo = input ('Sexo : F , M ou outro: ')\n",
    "if sexo!='F' and sexo!='f' and sexo!='M' and sexo!='m' and sexo!='outro' and sexo!='Outro':\n",
    "    print('Inválido! Insira F, M ou outro')\n",
    "```"
   ]
  },
  {
   "cell_type": "markdown",
   "id": "a85803cf",
   "metadata": {},
   "source": [
    "<h2>Questão 3<h2>\n",
    "<h4>Vamos fazer um programa para veriﬁcar quem é o assassino de um crime. Para descobrir o assassino, a polícia faz um pequeno questionário com 5 perguntas onde a resposta só pode ser sim ou não:\n",
    "<break>\n",
    "`1.Mora perto da vítima?\n",
    "2.Já trabalhou com a vítima?\n",
    "3.Telefonou para a vítima?\n",
    "4.Esteve no local do crime?\n",
    "5.Devia para a vítima?`\n",
    "<break>\n",
    "Cada resposta sim dá um ponto para o suspeito. A polícia considera que os suspeitos com 5 pontos são os assassinos, com 4 a 3 pontos são cúmplices e 2 pontos são apenas suspeitos, necessitando outras investigações. Valores iguais ou abaixo de 1 são liberados.<h4>"
   ]
  },
  {
   "cell_type": "markdown",
   "id": "4d979954",
   "metadata": {},
   "source": [
    "```Python\n",
    "suspeito = 0\n",
    "endereço = input(\"Mora perto da vila? Sim ou Não\")\n",
    "while endereço!='sim' and endereço!='não' and endereço !='Sim' and endereço!='Não':\n",
    "    print('Inválido! Digite somente sim ou não')\n",
    "    endereço = input(\"Mora perto da vila? Sim ou Não\")\n",
    "if endereço=='sim' or endereço=='Sim':\n",
    "    suspeito = suspeito+1\n",
    "trabalho = input(\"Já trabalhou com a vítima? Sim ou Não\")\n",
    "while trabalho!='sim' and trabalho!='não' and trabalho!='Sim' and trabalho!='Não':\n",
    "    print('Inválido! Digite somente sim ou não')\n",
    "    trabalho = input(\"Já trabalhou com a vítima? Sim ou Não\")\n",
    "if trabalho=='sim' or trabalho=='Sim':\n",
    "    suspeito = suspeito+1\n",
    "telefone= input(\"Telefonou para a vítima?\")\n",
    "while telefone!='sim' and telefone!='não' and telefone!='Sim' and telefone!='Não':\n",
    "    print('Inválido! Digite somente sim ou não')\n",
    "    telefone= input(\"Telefonou para a vítima?\")\n",
    "if telefone=='sim' or telefone=='Sim':\n",
    "    suspeito = suspeito+1\n",
    "localizacao= input(\"Esteve no local do crime?\")\n",
    "while localizacao!='sim' and localizacao!='não' and localizacao!='Sim' and localizacao!='Não':\n",
    "    print('Inválido! Digite somente sim ou não')\n",
    "    localizacao= input(\"Esteve no local do crime?\")\n",
    "if localizacao=='sim' or localizacao=='Sim':\n",
    "    suspeito = suspeito+1\n",
    "dividas= input('Devia para a vítima?')\n",
    "while dividas!='sim' and dividas!='não' and dividas!='Sim' and dividas!='Não':\n",
    "    print('Inválido! Digite somente sim ou não')\n",
    "    dividas= input('Devia para a vítima?')\n",
    "if dividas=='sim' or dividas=='Sim':\n",
    "    suspeito = suspeito+1\n",
    "print(suspeito)\n",
    "if suspeito<=1:\n",
    "    print('Você está liberado')\n",
    "elif suspeito==2:\n",
    "    print('Você é suspeito!')\n",
    "elif suspeito<=4:\n",
    "    print('Você é cúmplice!')\n",
    "else:\n",
    "    print('Você é culpado!')\n",
    "```"
   ]
  },
  {
   "cell_type": "markdown",
   "id": "e4f5ef94",
   "metadata": {},
   "source": [
    "<h2>Questão 4<h2>\n",
    "<h4>Faça um programa que imprima a `tabuada do 9 (de 9x1 a 9x10)` <b>usando loops.</b><h4>"
   ]
  },
  {
   "cell_type": "markdown",
   "id": "3f5f0fca",
   "metadata": {},
   "source": [
    "```Python\n",
    "multi=1\n",
    "while multi<10:\n",
    "    print( \"9x\",multi,\"=\",9*multi)\n",
    "    multi = multi+1\n",
    "print('Fim da tabuada do nove')\n",
    "```"
   ]
  },
  {
   "cell_type": "markdown",
   "id": "71faf1fd",
   "metadata": {},
   "source": []
  },
  {
   "cell_type": "code",
   "execution_count": null,
   "id": "34779366",
   "metadata": {},
   "outputs": [],
   "source": []
  }
 ],
 "metadata": {
  "kernelspec": {
   "display_name": "Python 3 (ipykernel)",
   "language": "python",
   "name": "python3"
  },
  "language_info": {
   "codemirror_mode": {
    "name": "ipython",
    "version": 3
   },
   "file_extension": ".py",
   "mimetype": "text/x-python",
   "name": "python",
   "nbconvert_exporter": "python",
   "pygments_lexer": "ipython3",
   "version": "3.10.7"
  }
 },
 "nbformat": 4,
 "nbformat_minor": 5
}
